{
  "nbformat": 4,
  "nbformat_minor": 0,
  "metadata": {
    "colab": {
      "provenance": [],
      "authorship_tag": "ABX9TyOYwVZJ9w30urMo/+NbTXhN",
      "include_colab_link": true
    },
    "kernelspec": {
      "name": "python3",
      "display_name": "Python 3"
    },
    "language_info": {
      "name": "python"
    }
  },
  "cells": [
    {
      "cell_type": "markdown",
      "metadata": {
        "id": "view-in-github",
        "colab_type": "text"
      },
      "source": [
        "<a href=\"https://colab.research.google.com/github/PrinceGarzota/DSA-58010/blob/main/Lab_report_7.ipynb\" target=\"_parent\"><img src=\"https://colab.research.google.com/assets/colab-badge.svg\" alt=\"Open In Colab\"/></a>"
      ]
    },
    {
      "cell_type": "code",
      "execution_count": 1,
      "metadata": {
        "colab": {
          "base_uri": "https://localhost:8080/"
        },
        "id": "YLdrELyoAlRs",
        "outputId": "23636115-fa87-4ae0-9e24-efb1caad334f"
      },
      "outputs": [
        {
          "output_type": "stream",
          "name": "stdout",
          "text": [
            "Head: 2\n",
            "Tail: 19\n",
            "2\n",
            "3\n",
            "5\n",
            "7\n",
            "11\n",
            "13\n",
            "17\n",
            "19\n"
          ]
        }
      ],
      "source": [
        "class Node:\n",
        "   def __init__(self, dataval=None):\n",
        "      self.dataval = dataval\n",
        "      self.nextval = None\n",
        "\n",
        "class SLinkedList:\n",
        "   def __init__(self):\n",
        "      self.headval = None\n",
        "      self.tailval = None\n",
        "\n",
        "   def listprint(self):\n",
        "      printval = self.headval\n",
        "      while printval is not None:\n",
        "         print(printval.dataval)\n",
        "         printval = printval.nextval\n",
        "\n",
        "   def display_head(self):\n",
        "      if self.headval:\n",
        "         print(\"Head:\", self.headval.dataval)\n",
        "      else:\n",
        "         print(\"The list is empty.\")\n",
        "\n",
        "   def display_tail(self):\n",
        "      if self.tailval:\n",
        "         print(\"Tail:\", self.tailval.dataval)\n",
        "      else:\n",
        "         print(\"The list is empty.\")\n",
        "\n",
        "list = SLinkedList()\n",
        "list.headval = Node(\"2\")\n",
        "e2 = Node(\"3\")\n",
        "e3 = Node(\"5\")\n",
        "e4 = Node(\"7\")\n",
        "e5 = Node(\"11\")\n",
        "e6 = Node(\"13\")\n",
        "e7 = Node(\"17\")\n",
        "list.tailval = Node(\"19\")\n",
        "\n",
        "# Link first Node to second node\n",
        "list.headval.nextval = e2\n",
        "\n",
        "# Link second Node to third node\n",
        "e2.nextval = e3\n",
        "e3.nextval = e4\n",
        "e4.nextval = e5\n",
        "e5.nextval = e6\n",
        "e6.nextval = e7\n",
        "\n",
        "# Link second to the last node to last node\n",
        "e7.nextval = list.tailval\n",
        "\n",
        "list.display_head()\n",
        "list.display_tail()\n",
        "list.listprint()\n"
      ]
    }
  ]
}