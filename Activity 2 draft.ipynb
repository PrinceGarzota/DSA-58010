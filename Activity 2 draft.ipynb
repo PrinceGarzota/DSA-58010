{
  "nbformat": 4,
  "nbformat_minor": 0,
  "metadata": {
    "colab": {
      "provenance": [],
      "authorship_tag": "ABX9TyNoYKl+KA411XgwietOjSku",
      "include_colab_link": true
    },
    "kernelspec": {
      "name": "python3",
      "display_name": "Python 3"
    },
    "language_info": {
      "name": "python"
    }
  },
  "cells": [
    {
      "cell_type": "markdown",
      "metadata": {
        "id": "view-in-github",
        "colab_type": "text"
      },
      "source": [
        "<a href=\"https://colab.research.google.com/github/PrinceGarzota/DSA-58010/blob/main/Activity%202%20draft.ipynb\" target=\"_parent\"><img src=\"https://colab.research.google.com/assets/colab-badge.svg\" alt=\"Open In Colab\"/></a>"
      ]
    },
    {
      "cell_type": "code",
      "execution_count": 1,
      "metadata": {
        "id": "srM3oZTaArjH"
      },
      "outputs": [],
      "source": [
        "# Write a Python program to create a singly linked list of prime numbers less than 20.\n",
        "\n",
        "class Node:\n",
        "  def _init_(self):\n",
        "    self.headval = None\n",
        "\n",
        "  def listprint(self):\n",
        "    printval = self.headval\n",
        "    while printval is not None:\n",
        "      print (printval.dataval)\n",
        "      printval = printval.nextval\n",
        "\n",
        "    list = SLinkedList()\n",
        "    list.headval = Node(\"0\")\n",
        "    e2 = Node(\"2\")\n",
        "    e3 = Node(\"3\")\n",
        "\n",
        "    # Link first node to second node\n",
        "    list.headval.nextval = e2\n",
        "\n",
        "    # Link second node to third node\n",
        "    e2.nextval = e3\n",
        "\n",
        "    list.listprint()"
      ]
    }
  ]
}