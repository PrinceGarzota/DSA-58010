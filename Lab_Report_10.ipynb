{
  "nbformat": 4,
  "nbformat_minor": 0,
  "metadata": {
    "colab": {
      "provenance": [],
      "authorship_tag": "ABX9TyOZ2iKrbzNMi+exj8oDgZGR",
      "include_colab_link": true
    },
    "kernelspec": {
      "name": "python3",
      "display_name": "Python 3"
    },
    "language_info": {
      "name": "python"
    }
  },
  "cells": [
    {
      "cell_type": "markdown",
      "metadata": {
        "id": "view-in-github",
        "colab_type": "text"
      },
      "source": [
        "<a href=\"https://colab.research.google.com/github/PrinceGarzota/DSA-58010/blob/main/Lab_Report_10.ipynb\" target=\"_parent\"><img src=\"https://colab.research.google.com/assets/colab-badge.svg\" alt=\"Open In Colab\"/></a>"
      ]
    },
    {
      "cell_type": "code",
      "source": [
        "class TreeNode:\n",
        "    def __init__(self, key):\n",
        "        self.key = key\n",
        "        self.left = None\n",
        "        self.right = None\n",
        "        self.pre_order_number = None\n",
        "        self.in_order_number = None\n",
        "        self.post_order_number = None\n",
        "\n",
        "\n",
        "class BinaryTree:\n",
        "    def __init__(self):\n",
        "        self.root = None\n",
        "        self.pre_order_counter = 1\n",
        "        self.in_order_counter = 1\n",
        "        self.post_order_counter = 1\n",
        "\n",
        "    def preOrderNumber(self, node):\n",
        "        if node:\n",
        "            node.pre_order_number = self.pre_order_counter\n",
        "            self.pre_order_counter += 1\n",
        "            self.preOrderNumber(node.left)\n",
        "            self.preOrderNumber(node.right)\n",
        "\n",
        "    def inOrderNumber(self, node):\n",
        "        if node:\n",
        "            self.inOrderNumber(node.left)\n",
        "            node.in_order_number = self.in_order_counter\n",
        "            self.in_order_counter += 1\n",
        "            self.inOrderNumber(node.right)\n",
        "\n",
        "    def postOrderNumber(self, node):\n",
        "        if node:\n",
        "            self.postOrderNumber(node.left)\n",
        "            self.postOrderNumber(node.right)\n",
        "            node.post_order_number = self.post_order_counter\n",
        "            self.post_order_counter += 1\n",
        "\n",
        "root = TreeNode(0)\n",
        "root.left = TreeNode(1)\n",
        "root.right = TreeNode(6)\n",
        "root.left.left = TreeNode(2)\n",
        "root.left.right = TreeNode(3)\n",
        "root.left.right.left = TreeNode(4)\n",
        "root.left.right.right = TreeNode(5)\n",
        "root.right.left = TreeNode(7)\n",
        "root.right.right = TreeNode(9)\n",
        "root.right.left.left = TreeNode(8)\n",
        "root.right.right.left = TreeNode(10)\n",
        "root.right.right.right = TreeNode(11)\n",
        "\n",
        "binary_tree = BinaryTree()\n",
        "binary_tree.root = root\n",
        "\n",
        "binary_tree.preOrderNumber(binary_tree.root)\n",
        "binary_tree.inOrderNumber(binary_tree.root)\n",
        "binary_tree.postOrderNumber(binary_tree.root)\n",
        "\n",
        "print(\"Pre-order numbers:\", [node.pre_order_number for node in binary_tree.__dict__.values() if isinstance(node, TreeNode)])\n",
        "print(\"In-order numbers:\", [node.in_order_number for node in binary_tree.__dict__.values() if isinstance(node, TreeNode)])\n",
        "print(\"Post-order numbers:\", [node.post_order_number for node in binary_tree.__dict__.values() if isinstance(node, TreeNode)])\n"
      ],
      "metadata": {
        "colab": {
          "base_uri": "https://localhost:8080/"
        },
        "id": "T9-EKzPzXpgh",
        "outputId": "f8cdb348-5c99-4eda-fd53-38572902a27b"
      },
      "execution_count": 2,
      "outputs": [
        {
          "output_type": "stream",
          "name": "stdout",
          "text": [
            "Pre-order numbers: [1]\n",
            "In-order numbers: [6]\n",
            "Post-order numbers: [12]\n"
          ]
        }
      ]
    }
  ]
}