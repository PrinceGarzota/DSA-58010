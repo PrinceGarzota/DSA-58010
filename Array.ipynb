{
  "nbformat": 4,
  "nbformat_minor": 0,
  "metadata": {
    "colab": {
      "provenance": [],
      "authorship_tag": "ABX9TyPnQjhtd2K5t9CyMcq12gw7",
      "include_colab_link": true
    },
    "kernelspec": {
      "name": "python3",
      "display_name": "Python 3"
    },
    "language_info": {
      "name": "python"
    }
  },
  "cells": [
    {
      "cell_type": "markdown",
      "metadata": {
        "id": "view-in-github",
        "colab_type": "text"
      },
      "source": [
        "<a href=\"https://colab.research.google.com/github/PrinceGarzota/DSA-58010/blob/main/Array.ipynb\" target=\"_parent\"><img src=\"https://colab.research.google.com/assets/colab-badge.svg\" alt=\"Open In Colab\"/></a>"
      ]
    },
    {
      "cell_type": "code",
      "execution_count": 24,
      "metadata": {
        "colab": {
          "base_uri": "https://localhost:8080/"
        },
        "id": "-j4pPh_nvAfO",
        "outputId": "a01c9bed-6f05-4b55-abae-706792a6bf7c"
      },
      "outputs": [
        {
          "output_type": "stream",
          "name": "stdout",
          "text": [
            "cat\n",
            "cat\n",
            "3\n",
            "cat\n",
            "dog\n",
            "fish\n",
            "['cat', 'dog', 'fish', 'monkey']\n",
            "['dog', 'fish']\n"
          ]
        }
      ],
      "source": [
        "#Accessing Elements in the Array\n",
        "\n",
        "animals = [\"cat\", \"dog\", \"fish\"]\n",
        "\n",
        "x = animals[0]\n",
        "\n",
        "print (x)\n",
        "\n",
        "#Modifying the Elements in the Array\n",
        "\n",
        "animals = [\"cat\", \"dog\", \"fish\"]\n",
        "\n",
        "animals[0] = \"monkey\"\n",
        "\n",
        "print (x)\n",
        "\n",
        "#Length of an Array\n",
        "\n",
        "animals = [\"cat\", \"dog\", \"fish\"]\n",
        "\n",
        "x = len(animals)\n",
        "\n",
        "print (x)\n",
        "\n",
        "#Looping Array Elements\n",
        "\n",
        "animals = [\"cat\", \"dog\", \"fish\"]\n",
        "\n",
        "for x in animals:\n",
        "  print(x)\n",
        "\n",
        "#Adding Elements in the Array\n",
        "\n",
        "animals = [\"cat\", \"dog\", \"fish\"]\n",
        "\n",
        "animals.append(\"monkey\")\n",
        "\n",
        "print(animals)\n",
        "\n",
        "#Removing an Element in the Array\n",
        "\n",
        "animals = [\"cat\", \"dog\", \"fish\"]\n",
        "\n",
        "animals.pop(0)\n",
        "\n",
        "print(animals)\n",
        "\n",
        "#Sorting an Array\n",
        "\n",
        "animals = [\"cat\", \"dog\", \"fish\"]\n",
        "\n",
        "animals.sort()"
      ]
    }
  ]
}