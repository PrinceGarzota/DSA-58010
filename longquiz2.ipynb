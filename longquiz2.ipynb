{
  "nbformat": 4,
  "nbformat_minor": 0,
  "metadata": {
    "colab": {
      "provenance": [],
      "authorship_tag": "ABX9TyOR86d8ECU3D4FQd0X9TBxa",
      "include_colab_link": true
    },
    "kernelspec": {
      "name": "python3",
      "display_name": "Python 3"
    },
    "language_info": {
      "name": "python"
    }
  },
  "cells": [
    {
      "cell_type": "markdown",
      "metadata": {
        "id": "view-in-github",
        "colab_type": "text"
      },
      "source": [
        "<a href=\"https://colab.research.google.com/github/PrinceGarzota/DSA-58010/blob/main/longquiz2.ipynb\" target=\"_parent\"><img src=\"https://colab.research.google.com/assets/colab-badge.svg\" alt=\"Open In Colab\"/></a>"
      ]
    },
    {
      "cell_type": "code",
      "source": [
        "#Display Graph Edges\n",
        "\n",
        "class graph:\n",
        "  def __init__(self,gdict=None):\n",
        "    if gdict is None:\n",
        "      gdict = {}\n",
        "    self.gdict = gdict\n",
        "\n",
        "  def edges(self):\n",
        "    return self.findedges()\n",
        "# Find the distinct list of edges\n",
        "  def findedges(self):\n",
        "    edgename = []\n",
        "    for vrtx in self.gdict:\n",
        "      for nxtvrtx in self.gdict[vrtx]:\n",
        "        if {nxtvrtx, vrtx} not in edgename:\n",
        "          edgename.append({vrtx, nxtvrtx})\n",
        "    return edgename\n",
        "#create the dictionary with graph elements\n",
        "graph_elements = {\n",
        "    \"E\" : [\"J\", \"K\", \"M\"],\n",
        "    \"F\" : [\"I\", \"J\", \"P\"],\n",
        "    \"H\" : [\"I\", \"J\", \"K\"],\n",
        "    \"I\" : [\"E\", \"F\", \"H\"],\n",
        "    \"J\" : [\"E\", \"F\", \"H\"],\n",
        "    \"K\" : [\"E\", \"F\", \"H\"],\n",
        "    \"M\" : [\"E\"],\n",
        "    \"P\" : [\"F\"],\n",
        "\n",
        "}\n",
        "g = graph (graph_elements)\n",
        "print(g.edges())"
      ],
      "metadata": {
        "colab": {
          "base_uri": "https://localhost:8080/"
        },
        "id": "8Up_SN1nUIPa",
        "outputId": "e63cf5b3-11b2-48b4-97bc-5205216209b6"
      },
      "execution_count": 4,
      "outputs": [
        {
          "output_type": "stream",
          "name": "stdout",
          "text": [
            "[{'E', 'J'}, {'E', 'K'}, {'E', 'M'}, {'F', 'I'}, {'J', 'F'}, {'F', 'P'}, {'H', 'I'}, {'J', 'H'}, {'H', 'K'}, {'E', 'I'}, {'F', 'K'}]\n"
          ]
        }
      ]
    },
    {
      "cell_type": "code",
      "source": [],
      "metadata": {
        "id": "RN1zfm2EUsma"
      },
      "execution_count": null,
      "outputs": []
    },
    {
      "cell_type": "code",
      "source": [
        "#Display graph vertices\n",
        "\n",
        "  class graph:\n",
        "    def __init__(self,gdict=None):\n",
        "      if gdict is None:\n",
        "        gdict = []\n",
        "      self.gdict = gdict\n",
        "    def getVertices(self):\n",
        "      return list(self.gdict.keys())\n",
        "graph_elements = {\n",
        "    \"E\" : [\"J\", \"K\", \"M\"],\n",
        "    \"F\" : [\"I\", \"J\", \"P\"],\n",
        "    \"H\" : [\"I\", \"J\", \"K\"],\n",
        "    \"I\" : [\"E\", \"F\", \"H\"],\n",
        "    \"J\" : [\"E\", \"F\", \"H\"],\n",
        "    \"K\" : [\"E\", \"F\", \"H\"],\n",
        "    \"M\" : [\"E\"],\n",
        "    \"P\" : [\"F\"],\n",
        "\n",
        "}\n",
        "g = graph(graph_elements)\n",
        "print(g.getVertices())"
      ],
      "metadata": {
        "id": "lTyI5-YCYBYj"
      },
      "execution_count": null,
      "outputs": []
    }
  ]
}