{
  "nbformat": 4,
  "nbformat_minor": 0,
  "metadata": {
    "colab": {
      "provenance": [],
      "authorship_tag": "ABX9TyNGmvclfT7zRwnGz/ayU7qK",
      "include_colab_link": true
    },
    "kernelspec": {
      "name": "python3",
      "display_name": "Python 3"
    },
    "language_info": {
      "name": "python"
    }
  },
  "cells": [
    {
      "cell_type": "markdown",
      "metadata": {
        "id": "view-in-github",
        "colab_type": "text"
      },
      "source": [
        "<a href=\"https://colab.research.google.com/github/PrinceGarzota/DSA-58010/blob/main/Final_Project.ipynb\" target=\"_parent\"><img src=\"https://colab.research.google.com/assets/colab-badge.svg\" alt=\"Open In Colab\"/></a>"
      ]
    },
    {
      "cell_type": "code",
      "execution_count": 6,
      "metadata": {
        "colab": {
          "base_uri": "https://localhost:8080/"
        },
        "id": "XoPphguNassI",
        "outputId": "17675d97-72eb-405e-dfac-df1d5c26c0af"
      },
      "outputs": [
        {
          "output_type": "stream",
          "name": "stdout",
          "text": [
            "Welcome to 'A day in a life ni Klasmeyt'!\n",
            "It's the first day of the week, and you have an activity in the subject Data Structure & Algorithm.\n",
            "\n",
            "--- Chapter One: Going to school ---\n",
            "You wake up first thing in the morning. What do you do?\n",
            "1. Get up and get ready\n",
            "2. Sleep again for 30 mins\n",
            "Enter the number of your choice: 2\n",
            "You chose to sleep. Now you are going to be late...\n",
            "\n",
            "--- Chapter Two: Inside Adamson University ---\n",
            "You enter the University campus and came across some friends. What do you do? \n",
            "1. Stop for a while and catch up with them\n",
            "2. Go straight to class\n",
            "Enter the number of your choice: 1\n",
            "You decide to stop and have a little talk with them. Now you are late...\n",
            "\n",
            "--- Chapter Three: Computer Laboratory ---\n",
            "You made it to the computer laboratory and you don't see your professor. What do you do? \n",
            "1. Go inside and wait\n",
            "2. Go to the department and call the professor\n",
            "Enter the number of your choice: 2\n",
            "You choose to go to the department and no one is there. The professor was already in the computer laboratory...\n",
            "\n",
            "--- Chapter Four: Dismissal ---\n",
            "Class is over. What do you do? \n",
            "1. Get up and go home quickly\n",
            "2. Pass your activity before leaving\n",
            "Enter the number of your choice: 2\n",
            "You remembered to pass your activity before leaving nad going home. Good Job...\n",
            "\n",
            "--- Conclusion ---\n",
            "After overcoming various challenges, you finally submitted your activity in Data Structure & Algorithm.\n",
            "Congratulations, you've completed 'A day in a life ni Klasmeyt'!\n"
          ]
        }
      ],
      "source": [
        "import time\n",
        "\n",
        "def introduction():\n",
        "    print(\"Welcome to 'A day in a life ni Klasmeyt'!\")\n",
        "    time.sleep(1)\n",
        "    print(\"It's the first day of the week, and you have an activity in the subject Data Structure & Algorithm.\")\n",
        "    time.sleep(1)\n",
        "\n",
        "def make_decision(question, options):\n",
        "    print(question)\n",
        "    for i, option in enumerate(options, 1):\n",
        "        print(f\"{i}. {option}\")\n",
        "\n",
        "    choice = int(input(\"Enter the number of your choice: \"))\n",
        "    return choice\n",
        "\n",
        "def chapter_one():\n",
        "    print(\"\\n--- Chapter One: Going to school ---\")\n",
        "    time.sleep(1)\n",
        "    decision = make_decision(\"You wake up first thing in the morning. What do you do?\", [\"Get up and get ready\", \"Sleep again for 30 mins\"])\n",
        "\n",
        "    if decision == 1:\n",
        "        print(\"You chose to get up and get ready. Now, You are on your way ...\")\n",
        "        time.sleep(1)\n",
        "    else:\n",
        "        print(\"You chose to sleep. Now you are going to be late...\")\n",
        "        time.sleep(1)\n",
        "\n",
        "def chapter_two():\n",
        "    print(\"\\n--- Chapter Two: Inside Adamson University ---\")\n",
        "    time.sleep(1)\n",
        "    decision = make_decision(\"You enter the University campus and came across some friends. What do you do? \", [\"Stop for a while and catch up with them\", \"Go straight to class\"])\n",
        "\n",
        "    if decision == 1:\n",
        "        print(\"You decide to stop and have a little talk with them. Now you are late...\")\n",
        "        time.sleep(1)\n",
        "    else:\n",
        "        print(\"You choose to go straight to class. You arrived on time...\")\n",
        "        time.sleep(1)\n",
        "\n",
        "def chapter_three():\n",
        "    print(\"\\n--- Chapter Three: Computer Laboratory ---\")\n",
        "    time.sleep(1)\n",
        "    decision = make_decision(\"You made it to the computer laboratory and you don't see your professor. What do you do? \", [\"Go inside and wait\", \"Go to the department and call the professor\"])\n",
        "\n",
        "    if decision == 1:\n",
        "        print(\"You go in the computer laboratory then the professor arrived. Class is about to start...\")\n",
        "        time.sleep(1)\n",
        "    else:\n",
        "        print(\"You choose to go to the department and no one is there. The professor was already in the computer laboratory...\")\n",
        "        time.sleep(1)\n",
        "\n",
        "def chapter_four():\n",
        "    print(\"\\n--- Chapter Four: Dismissal ---\")\n",
        "    time.sleep(1)\n",
        "    decision = make_decision(\"Class is over. What do you do? \", [\"Get up and go home quickly\", \"Pass your activity before leaving\"])\n",
        "\n",
        "    if decision == 1:\n",
        "        print(\"You chose to go home already. You didn't pass your activity...\")\n",
        "        time.sleep(1)\n",
        "    else:\n",
        "        print(\"You remembered to pass your activity before leaving nad going home. Good Job...\")\n",
        "        time.sleep(1)\n",
        "\n",
        "def conclusion():\n",
        "    print(\"\\n--- Conclusion ---\")\n",
        "    time.sleep(1)\n",
        "    print(\"After overcoming various challenges, you finally submitted your activity in Data Structure & Algorithm.\")\n",
        "    time.sleep(1)\n",
        "    print(\"Congratulations, you've completed 'A day in a life ni Klasmeyt'!\")\n",
        "\n",
        "def main():\n",
        "    introduction()\n",
        "    chapter_one()\n",
        "    chapter_two()\n",
        "    chapter_three()\n",
        "    chapter_four()\n",
        "    conclusion()\n",
        "\n",
        "if __name__ == \"__main__\":\n",
        "    main()\n"
      ]
    }
  ]
}