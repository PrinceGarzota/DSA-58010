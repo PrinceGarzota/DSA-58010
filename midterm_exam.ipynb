{
  "nbformat": 4,
  "nbformat_minor": 0,
  "metadata": {
    "colab": {
      "provenance": [],
      "authorship_tag": "ABX9TyN6pScqWCjs986PNzJ4rEDU",
      "include_colab_link": true
    },
    "kernelspec": {
      "name": "python3",
      "display_name": "Python 3"
    },
    "language_info": {
      "name": "python"
    }
  },
  "cells": [
    {
      "cell_type": "markdown",
      "metadata": {
        "id": "view-in-github",
        "colab_type": "text"
      },
      "source": [
        "<a href=\"https://colab.research.google.com/github/PrinceGarzota/DSA-58010/blob/main/midterm_exam.ipynb\" target=\"_parent\"><img src=\"https://colab.research.google.com/assets/colab-badge.svg\" alt=\"Open In Colab\"/></a>"
      ]
    },
    {
      "cell_type": "code",
      "execution_count": 16,
      "metadata": {
        "colab": {
          "base_uri": "https://localhost:8080/"
        },
        "id": "OTfV3gRAYdLj",
        "outputId": "df297063-e8a4-4967-d9f6-117fc0105772"
      },
      "outputs": [
        {
          "output_type": "stream",
          "name": "stdout",
          "text": [
            "[{'A', 'B'}, {'C', 'B'}, {'E', 'B'}, {'F', 'B'}, {'C', 'D'}, {'I', 'C'}, {'M', 'C'}, {'E', 'D'}, {'F', 'D'}, {'H', 'D'}, {'E'}, {'E', 'F'}, {'E', 'H'}, {'F'}, {'H', 'F'}, {'E', 'G'}, {'I', 'F'}, {'J', 'F'}, {'K', 'F'}, {'L', 'F'}, {'M', 'F'}, {'E', 'N'}, {'M', 'N'}, {'O', 'N'}, {'O', 'M'}, {'L', 'P'}, {'O', 'P'}, {'P'}]\n"
          ]
        }
      ],
      "source": [
        "#Display Graph Edges\n",
        "\n",
        "class graph:\n",
        "  def __init__(self,gdict=None):\n",
        "    if gdict is None:\n",
        "      gdict = {}\n",
        "    self.gdict = gdict\n",
        "\n",
        "  def edges(self):\n",
        "    return self.findedges()\n",
        "# Find the distinct list of edges\n",
        "  def findedges(self):\n",
        "    edgename = []\n",
        "    for vrtx in self.gdict:\n",
        "      for nxtvrtx in self.gdict[vrtx]:\n",
        "        if {nxtvrtx, vrtx} not in edgename:\n",
        "          edgename.append({vrtx, nxtvrtx})\n",
        "    return edgename\n",
        "#create the dictionary with graph elements\n",
        "graph_elements = {\n",
        "    \"A\" : [\"B\"],\n",
        "    \"B\" : [\"C\", \"E\", \"F\"],\n",
        "    \"C\" : [\"B\", \"D\", \"I\", \"M\"],\n",
        "    \"D\" : [\"\", \"\", \"\"],\n",
        "    \"E\" : [\"\", \"\", \"\"],\n",
        "    \"F\" : [\"\", \"\", \"\"],\n",
        "    \"G\" : [\"\"],\n",
        "    \"I\" : [\"\"],\n",
        "\t\t\"J\" : [\"\"],\n",
        "\t\t\"K\" : [\"\"],\n",
        "\t\t\"L\" : [\"\"],\n",
        "\t\t\"M\" : [\"\"],\n",
        "\t\t\"N\" : [\"E\", \"M\", \"O\"],\n",
        "\t\t\"O\" : [\"M\", \"N\"],\n",
        "\t\t\"P\" : [\"L\", \"O\", \"P\"],\n",
        "}\n",
        "g = graph (graph_elements)\n",
        "print(g.edges())"
      ]
    }
  ]
}