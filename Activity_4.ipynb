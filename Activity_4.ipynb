{
  "nbformat": 4,
  "nbformat_minor": 0,
  "metadata": {
    "colab": {
      "provenance": [],
      "authorship_tag": "ABX9TyNtc+AvZjv+roOLwEQ6kv1+",
      "include_colab_link": true
    },
    "kernelspec": {
      "name": "python3",
      "display_name": "Python 3"
    },
    "language_info": {
      "name": "python"
    }
  },
  "cells": [
    {
      "cell_type": "markdown",
      "metadata": {
        "id": "view-in-github",
        "colab_type": "text"
      },
      "source": [
        "<a href=\"https://colab.research.google.com/github/PrinceGarzota/DSA-58010/blob/main/Activity_4.ipynb\" target=\"_parent\"><img src=\"https://colab.research.google.com/assets/colab-badge.svg\" alt=\"Open In Colab\"/></a>"
      ]
    },
    {
      "cell_type": "code",
      "execution_count": 23,
      "metadata": {
        "colab": {
          "base_uri": "https://localhost:8080/"
        },
        "id": "fH8PYbm5O61w",
        "outputId": "563e1c87-8d7c-4b59-c6a0-4f6bf5c6bd81"
      },
      "outputs": [
        {
          "output_type": "stream",
          "name": "stdout",
          "text": [
            "dequeued: 2\n",
            "[4, 6, 8, 10, 12, 14, 16, 18, 20, 22, 24, 26, 28, 30, 32, 34, 36, 38, 40, 42, 44, 46, 48, 50]\n",
            "dequeued: 4\n",
            "[6, 8, 10, 12, 14, 16, 18, 20, 22, 24, 26, 28, 30, 32, 34, 36, 38, 40, 42, 44, 46, 48, 50]\n",
            "dequeued: 6\n",
            "[8, 10, 12, 14, 16, 18, 20, 22, 24, 26, 28, 30, 32, 34, 36, 38, 40, 42, 44, 46, 48, 50]\n",
            "dequeued: 8\n",
            "[10, 12, 14, 16, 18, 20, 22, 24, 26, 28, 30, 32, 34, 36, 38, 40, 42, 44, 46, 48, 50]\n",
            "dequeued: 10\n",
            "[12, 14, 16, 18, 20, 22, 24, 26, 28, 30, 32, 34, 36, 38, 40, 42, 44, 46, 48, 50]\n",
            "dequeued: 12\n",
            "[14, 16, 18, 20, 22, 24, 26, 28, 30, 32, 34, 36, 38, 40, 42, 44, 46, 48, 50]\n",
            "dequeued: 14\n",
            "[16, 18, 20, 22, 24, 26, 28, 30, 32, 34, 36, 38, 40, 42, 44, 46, 48, 50]\n",
            "dequeued: 16\n",
            "[18, 20, 22, 24, 26, 28, 30, 32, 34, 36, 38, 40, 42, 44, 46, 48, 50]\n",
            "dequeued: 18\n",
            "[20, 22, 24, 26, 28, 30, 32, 34, 36, 38, 40, 42, 44, 46, 48, 50]\n",
            "dequeued: 20\n",
            "[22, 24, 26, 28, 30, 32, 34, 36, 38, 40, 42, 44, 46, 48, 50]\n",
            "dequeued: 22\n",
            "[24, 26, 28, 30, 32, 34, 36, 38, 40, 42, 44, 46, 48, 50]\n",
            "dequeued: 24\n",
            "[26, 28, 30, 32, 34, 36, 38, 40, 42, 44, 46, 48, 50]\n",
            "dequeued: 26\n",
            "[28, 30, 32, 34, 36, 38, 40, 42, 44, 46, 48, 50]\n",
            "dequeued: 28\n",
            "[30, 32, 34, 36, 38, 40, 42, 44, 46, 48, 50]\n",
            "dequeued: 30\n",
            "[32, 34, 36, 38, 40, 42, 44, 46, 48, 50]\n",
            "dequeued: 32\n",
            "[34, 36, 38, 40, 42, 44, 46, 48, 50]\n",
            "dequeued: 34\n",
            "[36, 38, 40, 42, 44, 46, 48, 50]\n",
            "dequeued: 36\n",
            "[38, 40, 42, 44, 46, 48, 50]\n",
            "dequeued: 38\n",
            "[40, 42, 44, 46, 48, 50]\n",
            "dequeued: 40\n",
            "[42, 44, 46, 48, 50]\n",
            "dequeued: 42\n",
            "[44, 46, 48, 50]\n",
            "dequeued: 44\n",
            "[46, 48, 50]\n",
            "dequeued: 46\n",
            "[48, 50]\n",
            "dequeued: 48\n",
            "[50]\n",
            "dequeued: 50\n",
            "[]\n"
          ]
        }
      ],
      "source": [
        "# Python program that will traverse all integers (1 to 50) from the list, enqueue those integers that are even in the list, and dequeue afterward until the list becomes empty.\n",
        "\n",
        "even_numbers = []\n",
        "for i in range(1, 51):\n",
        "  if i % 2 == 0:\n",
        "    even_numbers.append(i)\n",
        "while even_numbers:\n",
        "  removed_item = even_numbers.pop(0)\n",
        "  print(f\"dequeued: {removed_item}\")\n",
        "  print(even_numbers)"
      ]
    }
  ]
}