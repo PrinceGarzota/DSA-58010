{
  "nbformat": 4,
  "nbformat_minor": 0,
  "metadata": {
    "colab": {
      "provenance": [],
      "authorship_tag": "ABX9TyNoGFZQCTzLbwESqpkRM122",
      "include_colab_link": true
    },
    "kernelspec": {
      "name": "python3",
      "display_name": "Python 3"
    },
    "language_info": {
      "name": "python"
    }
  },
  "cells": [
    {
      "cell_type": "markdown",
      "metadata": {
        "id": "view-in-github",
        "colab_type": "text"
      },
      "source": [
        "<a href=\"https://colab.research.google.com/github/PrinceGarzota/DSA-58010/blob/main/Prelim_Exam.ipynb\" target=\"_parent\"><img src=\"https://colab.research.google.com/assets/colab-badge.svg\" alt=\"Open In Colab\"/></a>"
      ]
    },
    {
      "cell_type": "code",
      "execution_count": 19,
      "metadata": {
        "colab": {
          "base_uri": "https://localhost:8080/"
        },
        "id": "HdbMmadhSAiJ",
        "outputId": "f85d1def-7ca5-45be-b728-9163e2d184c6"
      },
      "outputs": [
        {
          "output_type": "stream",
          "name": "stdout",
          "text": [
            "[26, 49, 62, 75, 87, 98]\n"
          ]
        }
      ],
      "source": [
        "#Create source code for adding the test scores: 26, 49, 98, 87, 62, 75\n",
        "\n",
        "numbers = [26, 49, 98, 87, 62, 75]\n",
        "\n",
        "x = (numbers)\n",
        "\n",
        "numbers.sort()\n",
        "\n",
        "print(x)\n",
        "\n"
      ]
    }
  ]
}