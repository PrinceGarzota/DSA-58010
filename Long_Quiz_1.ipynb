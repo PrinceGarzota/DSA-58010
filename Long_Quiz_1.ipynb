{
  "nbformat": 4,
  "nbformat_minor": 0,
  "metadata": {
    "colab": {
      "provenance": [],
      "authorship_tag": "ABX9TyM+KLl8HcgKLxQYp3GQhhDU",
      "include_colab_link": true
    },
    "kernelspec": {
      "name": "python3",
      "display_name": "Python 3"
    },
    "language_info": {
      "name": "python"
    }
  },
  "cells": [
    {
      "cell_type": "markdown",
      "metadata": {
        "id": "view-in-github",
        "colab_type": "text"
      },
      "source": [
        "<a href=\"https://colab.research.google.com/github/PrinceGarzota/DSA-58010/blob/main/Long_Quiz_1.ipynb\" target=\"_parent\"><img src=\"https://colab.research.google.com/assets/colab-badge.svg\" alt=\"Open In Colab\"/></a>"
      ]
    },
    {
      "cell_type": "code",
      "source": [
        "#Python or C++ program that appends each character of your full name and displays each character in reverse order\n",
        "\n",
        "name = [\"P\", \"R\", \"I\", \"N\", \"C\", \"E\", \"F\", \"E\", \"R\", \"D\", \"I\", \"N\", \"A\", \"N\", \"D\", \"G\", \"A\", \"R\", \"Z\", \"O\", \"T\"]\n",
        "\n",
        "name.append(\"A\")\n",
        "\n",
        "print(name)\n",
        "\n",
        "#Reversing order\n",
        "\n",
        "name.reverse()\n",
        "\n",
        "print(name)"
      ],
      "metadata": {
        "colab": {
          "base_uri": "https://localhost:8080/"
        },
        "id": "PxOT-cd-PeNv",
        "outputId": "78ef3939-627f-470a-99b0-5e30b1ece762"
      },
      "execution_count": 28,
      "outputs": [
        {
          "output_type": "stream",
          "name": "stdout",
          "text": [
            "['P', 'R', 'I', 'N', 'C', 'E', 'F', 'E', 'R', 'D', 'I', 'N', 'A', 'N', 'D', 'G', 'A', 'R', 'Z', 'O', 'T', 'A']\n",
            "['A', 'T', 'O', 'Z', 'R', 'A', 'G', 'D', 'N', 'A', 'N', 'I', 'D', 'R', 'E', 'F', 'E', 'C', 'N', 'I', 'R', 'P']\n"
          ]
        }
      ]
    },
    {
      "cell_type": "code",
      "source": [
        "# Using the set of positive whole numbers from 1 to 10, create a python or C++ program that displays if it is prime or composite.\n",
        "\n",
        "range1 = 1\n",
        "range2 = 10\n",
        "\n",
        "print(\"Prime numbers less than\", range2, \"are:\")\n",
        "\n",
        "for num in range(range1, range2):\n",
        "  prime = True\n",
        "  for i in range(2, num):\n",
        "    if (num % i == 0):\n",
        "      prime = False\n",
        "      composite = True\n",
        "  if prime:\n",
        "    print (num)\n",
        "\n",
        "print (\"Composite numbers less than\", range2, \"are:\")\n",
        "\n",
        "for num in range(range1, range2):\n",
        "  composite = True\n",
        "  for i in range(2, num):\n",
        "    if (num % i == 1):\n",
        "      prime = False\n",
        "      composite = True\n",
        "  if composite:\n",
        "    print (num)"
      ],
      "metadata": {
        "colab": {
          "base_uri": "https://localhost:8080/"
        },
        "id": "bdqm5Rs2K3Xv",
        "outputId": "62bc8814-3f1b-4eb3-fc03-251f1c14e626"
      },
      "execution_count": 45,
      "outputs": [
        {
          "output_type": "stream",
          "name": "stdout",
          "text": [
            "Prime numbers less than 10 are:\n",
            "1\n",
            "2\n",
            "3\n",
            "5\n",
            "7\n",
            "Composite numbers less than 10 are:\n",
            "1\n",
            "2\n",
            "3\n",
            "4\n",
            "5\n",
            "6\n",
            "7\n",
            "8\n",
            "9\n"
          ]
        }
      ]
    }
  ]
}