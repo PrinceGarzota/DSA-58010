{
  "nbformat": 4,
  "nbformat_minor": 0,
  "metadata": {
    "colab": {
      "provenance": [],
      "authorship_tag": "ABX9TyNmaRJLL26WlDNdshfvamoy",
      "include_colab_link": true
    },
    "kernelspec": {
      "name": "python3",
      "display_name": "Python 3"
    },
    "language_info": {
      "name": "python"
    }
  },
  "cells": [
    {
      "cell_type": "markdown",
      "metadata": {
        "id": "view-in-github",
        "colab_type": "text"
      },
      "source": [
        "<a href=\"https://colab.research.google.com/github/PrinceGarzota/DSA-58010/blob/main/Activity_1.ipynb\" target=\"_parent\"><img src=\"https://colab.research.google.com/assets/colab-badge.svg\" alt=\"Open In Colab\"/></a>"
      ]
    },
    {
      "cell_type": "code",
      "execution_count": 52,
      "metadata": {
        "colab": {
          "base_uri": "https://localhost:8080/"
        },
        "id": "Xc-EM2aR4BsX",
        "outputId": "ebded130-de2b-4f45-ce55-991639d697ae"
      },
      "outputs": [
        {
          "output_type": "stream",
          "name": "stdout",
          "text": [
            "1,\n",
            "['1,', '2', '3', '4', '5', '6', '7', '8', '9', '10', '11']\n",
            "['1,', 21, '2', '3', '4', '5', '6', '7', '8', '9', '10']\n",
            "['1', '2', '3', '4', '5']\n",
            "5\n"
          ]
        }
      ],
      "source": [
        "#Write a Python program to create an array of 10 integers and display the array items\n",
        "\n",
        "numbers = [\"1,\", \"2\", \"3\", \"4\", \"5\", \"6\", \"7\", \"8\" , \"9\", \"10\"]\n",
        "\n",
        "x = numbers[0]\n",
        "\n",
        "print (x)\n",
        "\n",
        "#Append a new item to the end of the Array\n",
        "\n",
        "numbers = [\"1,\", \"2\", \"3\", \"4\", \"5\", \"6\", \"7\", \"8\" , \"9\", \"10\"]\n",
        "\n",
        "numbers.append(\"11\")\n",
        "\n",
        "print(numbers)\n",
        "\n",
        "#Insert a new item before the second element\n",
        "\n",
        "numbers = [\"1,\", \"2\", \"3\", \"4\", \"5\", \"6\", \"7\", \"8\" , \"9\", \"10\"]\n",
        "\n",
        "numbers.insert(1, 21)\n",
        "\n",
        "print(numbers)\n",
        "\n",
        "#Reversing an Array\n",
        "\n",
        "numbers = [\"5\", \"4\", \"3\", \"2\", \"1\"]\n",
        "\n",
        "numbers.reverse()\n",
        "\n",
        "print(numbers)\n",
        "\n",
        "#Length of an Array\n",
        "\n",
        "numbers = [\"5\", \"4\", \"3\", \"2\", \"1\"]\n",
        "\n",
        "x = len(numbers)\n",
        "\n",
        "print (x)\n"
      ]
    }
  ]
}