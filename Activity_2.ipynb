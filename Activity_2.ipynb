{
  "nbformat": 4,
  "nbformat_minor": 0,
  "metadata": {
    "colab": {
      "provenance": [],
      "authorship_tag": "ABX9TyNvCI9xWaaCaci3atFcRfd1",
      "include_colab_link": true
    },
    "kernelspec": {
      "name": "python3",
      "display_name": "Python 3"
    },
    "language_info": {
      "name": "python"
    }
  },
  "cells": [
    {
      "cell_type": "markdown",
      "metadata": {
        "id": "view-in-github",
        "colab_type": "text"
      },
      "source": [
        "<a href=\"https://colab.research.google.com/github/PrinceGarzota/DSA-58010/blob/main/Activity_2.ipynb\" target=\"_parent\"><img src=\"https://colab.research.google.com/assets/colab-badge.svg\" alt=\"Open In Colab\"/></a>"
      ]
    },
    {
      "cell_type": "code",
      "execution_count": 14,
      "metadata": {
        "colab": {
          "base_uri": "https://localhost:8080/"
        },
        "id": "irfqpXEj5ikL",
        "outputId": "31e772cf-0d66-4783-aeb3-bd8a8988fe4b"
      },
      "outputs": [
        {
          "output_type": "stream",
          "name": "stdout",
          "text": [
            "Prime numbers less than 20 are:\n",
            "2\n",
            "3\n",
            "5\n",
            "7\n",
            "11\n",
            "13\n",
            "17\n",
            "19\n"
          ]
        }
      ],
      "source": [
        "# Write a Python program to create a singly linked list of prime numbers less than 20.\n",
        "\n",
        "range1 = 2\n",
        "range2 = 20\n",
        "\n",
        "print(\"Prime numbers less than\", range2, \"are:\")\n",
        "\n",
        "for num in range(range1, range2):\n",
        "  prime = True\n",
        "  # prime numbers are greater than 1\n",
        "  for i in range(2, num):\n",
        "    if (num % i == 0):\n",
        "      prime = False\n",
        "  if prime:\n",
        "    print (num)"
      ]
    }
  ]
}