{
  "nbformat": 4,
  "nbformat_minor": 0,
  "metadata": {
    "colab": {
      "provenance": [],
      "authorship_tag": "ABX9TyNd9pkoIkPzPjGyuP9DUiou",
      "include_colab_link": true
    },
    "kernelspec": {
      "name": "python3",
      "display_name": "Python 3"
    },
    "language_info": {
      "name": "python"
    }
  },
  "cells": [
    {
      "cell_type": "markdown",
      "metadata": {
        "id": "view-in-github",
        "colab_type": "text"
      },
      "source": [
        "<a href=\"https://colab.research.google.com/github/PrinceGarzota/DSA-58010/blob/main/Activity_2.ipynb\" target=\"_parent\"><img src=\"https://colab.research.google.com/assets/colab-badge.svg\" alt=\"Open In Colab\"/></a>"
      ]
    },
    {
      "cell_type": "code",
      "execution_count": 4,
      "metadata": {
        "colab": {
          "base_uri": "https://localhost:8080/"
        },
        "id": "vgQkTkp9Dagt",
        "outputId": "eae96232-13b8-4d45-f639-77aab9589a98"
      },
      "outputs": [
        {
          "output_type": "stream",
          "name": "stdout",
          "text": [
            "2\n",
            "3\n",
            "5\n",
            "7\n",
            "11\n",
            "13\n",
            "17\n",
            "19\n"
          ]
        }
      ],
      "source": [
        "class Node:\n",
        "   def __init__(self, dataval=None):\n",
        "      self.dataval = dataval\n",
        "      self.nextval = None\n",
        "class SLinkedList:\n",
        "   def __init__(self):\n",
        "      self.headval = None\n",
        "# Function to add newnode\n",
        "   def AtEnd(self, newdata):\n",
        "      NewNode = Node(newdata)\n",
        "      if self.headval is None:\n",
        "         self.headval = NewNode\n",
        "         return\n",
        "      laste = self.headval\n",
        "      while(laste.nextval):\n",
        "         laste = laste.nextval\n",
        "      laste.nextval=NewNode\n",
        "# Print the linked list\n",
        "   def listprint(self):\n",
        "      printval = self.headval\n",
        "      while printval is not None:\n",
        "         print (printval.dataval)\n",
        "         printval = printval.nextval\n",
        "\n",
        "list = SLinkedList()\n",
        "list.headval = Node(\"2\")\n",
        "e2 = Node(\"3\")\n",
        "e3 = Node(\"5\")\n",
        "e4 = Node(\"7\")\n",
        "e5 = Node(\"11\")\n",
        "e6 = Node(\"13\")\n",
        "e7 = Node(\"17\")\n",
        "\n",
        "list.headval.nextval = e2\n",
        "e2.nextval = e3\n",
        "e3.nextval = e4\n",
        "e4.nextval = e5\n",
        "e5.nextval = e6\n",
        "e6.nextval = e7\n",
        "\n",
        "list.AtEnd(\"19\")\n",
        "\n",
        "list.listprint()"
      ]
    }
  ]
}