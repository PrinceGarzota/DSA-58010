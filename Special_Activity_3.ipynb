{
  "nbformat": 4,
  "nbformat_minor": 0,
  "metadata": {
    "colab": {
      "provenance": [],
      "authorship_tag": "ABX9TyM6FqSkT58cmpZhf+4agIxg",
      "include_colab_link": true
    },
    "kernelspec": {
      "name": "python3",
      "display_name": "Python 3"
    },
    "language_info": {
      "name": "python"
    }
  },
  "cells": [
    {
      "cell_type": "markdown",
      "metadata": {
        "id": "view-in-github",
        "colab_type": "text"
      },
      "source": [
        "<a href=\"https://colab.research.google.com/github/PrinceGarzota/DSA-58010/blob/main/Special_Activity_3.ipynb\" target=\"_parent\"><img src=\"https://colab.research.google.com/assets/colab-badge.svg\" alt=\"Open In Colab\"/></a>"
      ]
    },
    {
      "cell_type": "code",
      "execution_count": null,
      "metadata": {
        "colab": {
          "base_uri": "https://localhost:8080/"
        },
        "id": "Iv_2XOibpzfO",
        "outputId": "0fa6d6d7-562b-4056-c3b0-266c77cdf150"
      },
      "outputs": [
        {
          "output_type": "stream",
          "name": "stdout",
          "text": [
            "Please type your choice\n",
            "Push <value>\n",
            "Pop\n",
            "Quit\n",
            "What operation would you like to perform ? Push 1\n",
            "Please type your choice\n",
            "Push <value>\n",
            "Pop\n",
            "Quit\n",
            "What operation would you like to perform ? Pop\n",
            "The deleted value is :  1\n",
            "Please type your choice\n",
            "Push <value>\n",
            "Pop\n",
            "Quit\n"
          ]
        }
      ],
      "source": [
        "# Stack implementation in python\n",
        "\n",
        "\n",
        "\n",
        "\n",
        "\n",
        "class Stack_struct:\n",
        "\n",
        "   def __init__(self):\n",
        "\n",
        "       self.items = []\n",
        "\n",
        "   def check_empty(self):\n",
        "\n",
        "       return self.items == []\n",
        "\n",
        "   def add_elements(self, my_data):\n",
        "\n",
        "       self.items.append(my_data)\n",
        "\n",
        "   def delete_elements(self):\n",
        "\n",
        "       return self.items.pop()\n",
        "\n",
        "my_instance = Stack_struct()\n",
        "\n",
        "while True:\n",
        "\n",
        "   print('Please type your choice')\n",
        "\n",
        "   print('Push <value>')\n",
        "\n",
        "   print('Pop')\n",
        "\n",
        "   print('Quit')\n",
        "\n",
        "   my_input = input('What operation would you like to perform ? ').split()\n",
        "\n",
        "   my_op = my_input[0].strip().lower()\n",
        "\n",
        "   if my_op == 'push':\n",
        "\n",
        "       my_instance.add_elements(int(my_input[1]))\n",
        "\n",
        "   elif my_op == 'pop':\n",
        "\n",
        "       if my_instance.check_empty():\n",
        "\n",
        "           print('The stack is empty')\n",
        "\n",
        "       else:\n",
        "\n",
        "           print('The deleted value is : ', my_instance.delete_elements())\n",
        "\n",
        "   elif my_op == 'Quit':\n",
        "\n",
        "       break\n",
        "\n"
      ]
    },
    {
      "cell_type": "code",
      "source": [
        "class Stack:\n",
        "    def __init__(self):\n",
        "        self.items = []\n",
        "        self.size = 0\n",
        "\n",
        "    def push(self, item):\n",
        "        self.items.append(item)\n",
        "        self.size += 1\n",
        "\n",
        "    def pop(self):\n",
        "        if not self.is_empty():\n",
        "            self.size -= 1\n",
        "            return self.items.pop()\n",
        "        else:\n",
        "            return None  # You can choose how to handle popping from an empty stack\n",
        "\n",
        "    def is_empty(self):\n",
        "        return self.size == 0\n",
        "\n",
        "    def get_size(self):\n",
        "        return self.size"
      ],
      "metadata": {
        "id": "VIXMTmQOvKwK"
      },
      "execution_count": null,
      "outputs": []
    }
  ]
}